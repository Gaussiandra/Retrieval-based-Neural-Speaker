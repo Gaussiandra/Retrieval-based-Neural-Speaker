{
 "cells": [
  {
   "cell_type": "code",
   "execution_count": 0,
   "metadata": {
    "colab": {},
    "colab_type": "code",
    "id": "jvCfyWGBnIAc"
   },
   "outputs": [],
   "source": [
    "!pip install telethon\n",
    "import telethon\n",
    "from tqdm import tqdm\n",
    "import pandas as pd\n",
    "\n",
    "name = \"\"\n",
    "app_id = 0\n",
    "hash = \"\"\n",
    "\n",
    "client = telethon.TelegramClient(name, app_id, hash)\n",
    "client.start()\n",
    "\n",
    "chats = list(client.iter_dialogs())\n",
    "for i, chat in enumerate(chats):\n",
    "    print(i, \" : \", chat.name)\n",
    "\n",
    "chat_id = int(input(\"Choose chat to download\"))\n",
    "limit = int(input(\"Choose messages limit, -1 to load all\"))\n",
    "if limit == -1:\n",
    "    limit = None\n",
    "\n",
    "msgs = []\n",
    "\n",
    "for i, msg in tqdm(enumerate(client.iter_messages(chats[chat_id], limit = limit)), ):\n",
    "  msgs.append(msg)\n",
    "\n",
    "pd.DataFrame(msgs).to_csv(\"loaded.csv\")"
   ]
  },
  {
   "cell_type": "code",
   "execution_count": 0,
   "metadata": {
    "colab": {},
    "colab_type": "code",
    "id": "aVNOCu5Paewc"
   },
   "outputs": [],
   "source": []
  }
 ],
 "metadata": {
  "colab": {
   "collapsed_sections": [],
   "name": "Untitled1.ipynb",
   "provenance": []
  },
  "kernelspec": {
   "display_name": "Python 3",
   "language": "python",
   "name": "python3"
  },
  "language_info": {
   "codemirror_mode": {
    "name": "ipython",
    "version": 3
   },
   "file_extension": ".py",
   "mimetype": "text/x-python",
   "name": "python",
   "nbconvert_exporter": "python",
   "pygments_lexer": "ipython3",
   "version": "3.8.2"
  }
 },
 "nbformat": 4,
 "nbformat_minor": 1
}
