{
  "nbformat": 4,
  "nbformat_minor": 0,
  "metadata": {
    "colab": {
      "name": "Untitled0.ipynb",
      "provenance": [],
      "collapsed_sections": []
    },
    "kernelspec": {
      "name": "python3",
      "display_name": "Python 3"
    }
  },
  "cells": [
    {
      "cell_type": "code",
      "metadata": {
        "id": "SWkiInbWDAwu",
        "colab_type": "code",
        "colab": {
          "base_uri": "https://localhost:8080/",
          "height": 349
        },
        "outputId": "1f7cfba6-9cae-45b5-a899-810dec845cf4"
      },
      "source": [
        "!pip install telethon"
      ],
      "execution_count": 1,
      "outputs": [
        {
          "output_type": "stream",
          "text": [
            "Collecting telethon\n",
            "\u001b[?25l  Downloading https://files.pythonhosted.org/packages/bf/a0/4a4c358e10ce016cd2d5491a96c8819efd41f2c06256b01fbf929f3c8fed/Telethon-1.14.0-py3-none-any.whl (483kB)\n",
            "\r\u001b[K     |▊                               | 10kB 17.0MB/s eta 0:00:01\r\u001b[K     |█▍                              | 20kB 3.2MB/s eta 0:00:01\r\u001b[K     |██                              | 30kB 3.7MB/s eta 0:00:01\r\u001b[K     |██▊                             | 40kB 4.0MB/s eta 0:00:01\r\u001b[K     |███▍                            | 51kB 3.5MB/s eta 0:00:01\r\u001b[K     |████                            | 61kB 3.8MB/s eta 0:00:01\r\u001b[K     |████▊                           | 71kB 4.3MB/s eta 0:00:01\r\u001b[K     |█████▍                          | 81kB 4.6MB/s eta 0:00:01\r\u001b[K     |██████                          | 92kB 4.4MB/s eta 0:00:01\r\u001b[K     |██████▉                         | 102kB 4.7MB/s eta 0:00:01\r\u001b[K     |███████▌                        | 112kB 4.7MB/s eta 0:00:01\r\u001b[K     |████████▏                       | 122kB 4.7MB/s eta 0:00:01\r\u001b[K     |████████▉                       | 133kB 4.7MB/s eta 0:00:01\r\u001b[K     |█████████▌                      | 143kB 4.7MB/s eta 0:00:01\r\u001b[K     |██████████▏                     | 153kB 4.7MB/s eta 0:00:01\r\u001b[K     |██████████▉                     | 163kB 4.7MB/s eta 0:00:01\r\u001b[K     |███████████▌                    | 174kB 4.7MB/s eta 0:00:01\r\u001b[K     |████████████▏                   | 184kB 4.7MB/s eta 0:00:01\r\u001b[K     |████████████▉                   | 194kB 4.7MB/s eta 0:00:01\r\u001b[K     |█████████████▋                  | 204kB 4.7MB/s eta 0:00:01\r\u001b[K     |██████████████▎                 | 215kB 4.7MB/s eta 0:00:01\r\u001b[K     |███████████████                 | 225kB 4.7MB/s eta 0:00:01\r\u001b[K     |███████████████▋                | 235kB 4.7MB/s eta 0:00:01\r\u001b[K     |████████████████▎               | 245kB 4.7MB/s eta 0:00:01\r\u001b[K     |█████████████████               | 256kB 4.7MB/s eta 0:00:01\r\u001b[K     |█████████████████▋              | 266kB 4.7MB/s eta 0:00:01\r\u001b[K     |██████████████████▎             | 276kB 4.7MB/s eta 0:00:01\r\u001b[K     |███████████████████             | 286kB 4.7MB/s eta 0:00:01\r\u001b[K     |███████████████████▋            | 296kB 4.7MB/s eta 0:00:01\r\u001b[K     |████████████████████▍           | 307kB 4.7MB/s eta 0:00:01\r\u001b[K     |█████████████████████           | 317kB 4.7MB/s eta 0:00:01\r\u001b[K     |█████████████████████▊          | 327kB 4.7MB/s eta 0:00:01\r\u001b[K     |██████████████████████▍         | 337kB 4.7MB/s eta 0:00:01\r\u001b[K     |███████████████████████         | 348kB 4.7MB/s eta 0:00:01\r\u001b[K     |███████████████████████▊        | 358kB 4.7MB/s eta 0:00:01\r\u001b[K     |████████████████████████▍       | 368kB 4.7MB/s eta 0:00:01\r\u001b[K     |█████████████████████████       | 378kB 4.7MB/s eta 0:00:01\r\u001b[K     |█████████████████████████▊      | 389kB 4.7MB/s eta 0:00:01\r\u001b[K     |██████████████████████████▌     | 399kB 4.7MB/s eta 0:00:01\r\u001b[K     |███████████████████████████▏    | 409kB 4.7MB/s eta 0:00:01\r\u001b[K     |███████████████████████████▉    | 419kB 4.7MB/s eta 0:00:01\r\u001b[K     |████████████████████████████▌   | 430kB 4.7MB/s eta 0:00:01\r\u001b[K     |█████████████████████████████▏  | 440kB 4.7MB/s eta 0:00:01\r\u001b[K     |█████████████████████████████▉  | 450kB 4.7MB/s eta 0:00:01\r\u001b[K     |██████████████████████████████▌ | 460kB 4.7MB/s eta 0:00:01\r\u001b[K     |███████████████████████████████▏| 471kB 4.7MB/s eta 0:00:01\r\u001b[K     |███████████████████████████████▉| 481kB 4.7MB/s eta 0:00:01\r\u001b[K     |████████████████████████████████| 491kB 4.7MB/s \n",
            "\u001b[?25hCollecting pyaes\n",
            "  Downloading https://files.pythonhosted.org/packages/44/66/2c17bae31c906613795711fc78045c285048168919ace2220daa372c7d72/pyaes-1.6.1.tar.gz\n",
            "Requirement already satisfied: rsa in /usr/local/lib/python3.6/dist-packages (from telethon) (4.0)\n",
            "Requirement already satisfied: pyasn1>=0.1.3 in /usr/local/lib/python3.6/dist-packages (from rsa->telethon) (0.4.8)\n",
            "Building wheels for collected packages: pyaes\n",
            "  Building wheel for pyaes (setup.py) ... \u001b[?25l\u001b[?25hdone\n",
            "  Created wheel for pyaes: filename=pyaes-1.6.1-cp36-none-any.whl size=26346 sha256=a3713d7c939ce96e6f52564f7d38ad4f03fa5898421a4f14ca6064d7a8f0d0df\n",
            "  Stored in directory: /root/.cache/pip/wheels/bd/cf/7b/ced9e8f28c50ed666728e8ab178ffedeb9d06f6a10f85d6432\n",
            "Successfully built pyaes\n",
            "Installing collected packages: pyaes, telethon\n",
            "Successfully installed pyaes-1.6.1 telethon-1.14.0\n",
            "Please enter your phone (or bot token): +79099238143\n",
            "Please enter the code you received: 71550\n",
            "Please enter your password: ··········\n",
            "Signed in successfully as Андрей Самойлов\n"
          ],
          "name": "stdout"
        },
        {
          "output_type": "execute_result",
          "data": {
            "text/plain": [
              "<telethon.client.telegramclient.TelegramClient at 0x7f7cbf3af160>"
            ]
          },
          "metadata": {
            "tags": []
          },
          "execution_count": 1
        }
      ]
    },
    {
      "cell_type": "code",
      "metadata": {
        "id": "GK596pgxDBVl",
        "colab_type": "code",
        "colab": {}
      },
      "source": [
        "chats = list(client.iter_dialogs())"
      ],
      "execution_count": 0,
      "outputs": []
    },
    {
      "cell_type": "code",
      "metadata": {
        "id": "d_7vY5UwDMHk",
        "colab_type": "code",
        "colab": {
          "base_uri": "https://localhost:8080/",
          "height": 34
        },
        "outputId": "8ce4ed1c-ba39-4b76-e85b-10a82c56aa34"
      },
      "source": [
        "chats[0].name"
      ],
      "execution_count": 3,
      "outputs": [
        {
          "output_type": "execute_result",
          "data": {
            "text/plain": [
              "'Сладкий рулет 2.0'"
            ]
          },
          "metadata": {
            "tags": []
          },
          "execution_count": 3
        }
      ]
    },
    {
      "cell_type": "code",
      "metadata": {
        "id": "DwzQi20bDNhs",
        "colab_type": "code",
        "colab": {
          "base_uri": "https://localhost:8080/",
          "height": 1000
        },
        "outputId": "8810167b-2719-46eb-c49f-7dc1d671635c"
      },
      "source": [
        "msgs = []\n",
        "for i, msg in enumerate(client.iter_messages(chats[0])):\n",
        "  if i%1000 == 0:\n",
        "    print(i)\n",
        "  if msg.from_id:\n",
        "    msgs.append((msg.message, msg.date, msg.from_id//2-15))"
      ],
      "execution_count": 0,
      "outputs": [
        {
          "output_type": "stream",
          "text": [
            "0\n",
            "1000\n",
            "2000\n",
            "3000\n",
            "4000\n",
            "5000\n",
            "6000\n",
            "7000\n",
            "8000\n",
            "9000\n",
            "10000\n",
            "11000\n",
            "12000\n",
            "13000\n",
            "14000\n",
            "15000\n",
            "16000\n",
            "17000\n",
            "18000\n",
            "19000\n",
            "20000\n",
            "21000\n",
            "22000\n",
            "23000\n",
            "24000\n",
            "25000\n",
            "26000\n",
            "27000\n",
            "28000\n",
            "29000\n",
            "30000\n",
            "31000\n",
            "32000\n",
            "33000\n",
            "34000\n",
            "35000\n",
            "36000\n",
            "37000\n",
            "38000\n",
            "39000\n",
            "40000\n",
            "41000\n",
            "42000\n",
            "43000\n",
            "44000\n",
            "45000\n",
            "46000\n",
            "47000\n",
            "48000\n",
            "49000\n",
            "50000\n",
            "51000\n",
            "52000\n",
            "53000\n",
            "54000\n",
            "55000\n",
            "56000\n",
            "57000\n",
            "58000\n",
            "59000\n",
            "60000\n",
            "61000\n",
            "62000\n",
            "63000\n",
            "64000\n",
            "65000\n",
            "66000\n",
            "67000\n",
            "68000\n",
            "69000\n",
            "70000\n",
            "71000\n",
            "72000\n",
            "73000\n",
            "74000\n",
            "75000\n",
            "76000\n",
            "77000\n",
            "78000\n",
            "79000\n",
            "80000\n",
            "81000\n",
            "82000\n",
            "83000\n",
            "84000\n",
            "85000\n",
            "86000\n",
            "87000\n",
            "88000\n",
            "89000\n",
            "90000\n",
            "91000\n",
            "92000\n",
            "93000\n",
            "94000\n",
            "95000\n",
            "96000\n",
            "97000\n",
            "98000\n",
            "99000\n",
            "100000\n",
            "101000\n",
            "102000\n",
            "103000\n",
            "104000\n",
            "105000\n",
            "106000\n",
            "107000\n",
            "108000\n",
            "109000\n",
            "110000\n",
            "111000\n",
            "112000\n",
            "113000\n",
            "114000\n",
            "115000\n",
            "116000\n",
            "117000\n",
            "118000\n",
            "119000\n",
            "120000\n",
            "121000\n",
            "122000\n",
            "123000\n",
            "124000\n",
            "125000\n",
            "126000\n",
            "127000\n",
            "128000\n",
            "129000\n",
            "130000\n",
            "131000\n",
            "132000\n",
            "133000\n",
            "134000\n",
            "135000\n",
            "136000\n",
            "137000\n",
            "138000\n",
            "139000\n",
            "140000\n",
            "141000\n",
            "142000\n",
            "143000\n",
            "144000\n",
            "145000\n",
            "146000\n",
            "147000\n",
            "148000\n",
            "149000\n",
            "150000\n",
            "151000\n",
            "152000\n",
            "153000\n",
            "154000\n",
            "155000\n",
            "156000\n",
            "157000\n",
            "158000\n",
            "159000\n",
            "160000\n",
            "161000\n",
            "162000\n",
            "163000\n",
            "164000\n",
            "165000\n",
            "166000\n",
            "167000\n",
            "168000\n"
          ],
          "name": "stdout"
        }
      ]
    },
    {
      "cell_type": "code",
      "metadata": {
        "id": "gSpVyz_LDP6r",
        "colab_type": "code",
        "colab": {}
      },
      "source": [
        ""
      ],
      "execution_count": 0,
      "outputs": []
    }
  ]
}