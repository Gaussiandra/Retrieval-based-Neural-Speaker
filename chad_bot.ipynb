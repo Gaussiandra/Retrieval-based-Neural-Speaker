{
  "nbformat": 4,
  "nbformat_minor": 0,
  "metadata": {
    "colab": {
      "name": "chad_bot.ipynb",
      "provenance": [],
      "collapsed_sections": [],
      "machine_shape": "hm"
    },
    "kernelspec": {
      "name": "python3",
      "display_name": "Python 3"
    }
  },
  "cells": [
    {
      "cell_type": "code",
      "metadata": {
        "id": "bucelcycF5oB",
        "colab_type": "code",
        "outputId": "d498b886-5815-4f2c-fe5e-8ea98949c344",
        "colab": {
          "base_uri": "https://localhost:8080/",
          "height": 297
        }
      },
      "source": [
        "!pip install pyTelegramBotAPI"
      ],
      "execution_count": 2,
      "outputs": [
        {
          "output_type": "stream",
          "text": [
            "Collecting pyTelegramBotAPI\n",
            "\u001b[?25l  Downloading https://files.pythonhosted.org/packages/16/1d/40c1fde174731bd58f014721a37c28d35210aa39c42c3e8b1659374a9bec/pyTelegramBotAPI-3.7.1.tar.gz (70kB)\n",
            "\r\u001b[K     |████▋                           | 10kB 17.9MB/s eta 0:00:01\r\u001b[K     |█████████▎                      | 20kB 2.2MB/s eta 0:00:01\r\u001b[K     |██████████████                  | 30kB 2.8MB/s eta 0:00:01\r\u001b[K     |██████████████████▋             | 40kB 3.1MB/s eta 0:00:01\r\u001b[K     |███████████████████████▎        | 51kB 2.6MB/s eta 0:00:01\r\u001b[K     |████████████████████████████    | 61kB 2.8MB/s eta 0:00:01\r\u001b[K     |████████████████████████████████| 71kB 2.4MB/s \n",
            "\u001b[?25hRequirement already satisfied: requests in /usr/local/lib/python3.6/dist-packages (from pyTelegramBotAPI) (2.23.0)\n",
            "Requirement already satisfied: six in /usr/local/lib/python3.6/dist-packages (from pyTelegramBotAPI) (1.12.0)\n",
            "Requirement already satisfied: chardet<4,>=3.0.2 in /usr/local/lib/python3.6/dist-packages (from requests->pyTelegramBotAPI) (3.0.4)\n",
            "Requirement already satisfied: idna<3,>=2.5 in /usr/local/lib/python3.6/dist-packages (from requests->pyTelegramBotAPI) (2.9)\n",
            "Requirement already satisfied: certifi>=2017.4.17 in /usr/local/lib/python3.6/dist-packages (from requests->pyTelegramBotAPI) (2020.4.5.1)\n",
            "Requirement already satisfied: urllib3!=1.25.0,!=1.25.1,<1.26,>=1.21.1 in /usr/local/lib/python3.6/dist-packages (from requests->pyTelegramBotAPI) (1.24.3)\n",
            "Building wheels for collected packages: pyTelegramBotAPI\n",
            "  Building wheel for pyTelegramBotAPI (setup.py) ... \u001b[?25l\u001b[?25hdone\n",
            "  Created wheel for pyTelegramBotAPI: filename=pyTelegramBotAPI-3.7.1-cp36-none-any.whl size=50883 sha256=3b2115518d6eef753f32d637e1e00523841911801ecef15a80f5d99c7ef379af\n",
            "  Stored in directory: /root/.cache/pip/wheels/cd/b2/2c/eac6af3343b21f907123ce013d20ad5ad70c2c3731072d98bf\n",
            "Successfully built pyTelegramBotAPI\n",
            "Installing collected packages: pyTelegramBotAPI\n",
            "Successfully installed pyTelegramBotAPI-3.7.1\n"
          ],
          "name": "stdout"
        }
      ]
    },
    {
      "cell_type": "code",
      "metadata": {
        "id": "YEupm69aGM1f",
        "colab_type": "code",
        "colab": {}
      },
      "source": [
        "import telebot\n",
        "import os\n",
        "import random\n",
        "import pickle\n",
        "\n",
        "token = \"1292604678:AAEZfEn_8PVtoNcKYJ6VOOtwOWaB3aGr_TI\" #токен бота\n",
        "\n",
        "handler = str.lower #то что будет обрабатывать сообщения\n",
        "\n",
        "bot = telebot.TeleBot(token)\n",
        "\n",
        "#загружаем температуры пользователей\n",
        "if os.path.exists(\"temperatures.save\"):\n",
        "  with open(\"temperatures.save\", \"rb\") as f:\n",
        "    temperatures = pickle.load(f)\n",
        "else:\n",
        "  temperatures = {}\n",
        "\n",
        "#сообщение при старте\n",
        "@bot.message_handler(commands=['start'])\n",
        "def start_message(message):\n",
        "    bot.send_message(message.chat.id, 'Используйте /get_p  и /set_p x для того, чтобы узнать и поменять вероятность ответа')\n",
        "    if  message.from_user.id not in temperatures:\n",
        "      temperatures[message.from_user.id] = 0.5\n",
        "\n",
        "\n",
        "#изменение температуры\n",
        "@bot.message_handler(commands=['set_p'])\n",
        "def change_t_message(message):\n",
        "    try:\n",
        "      t = float(message.text.split()[1])\n",
        "    except:\n",
        "      bot.send_message(message.chat.id, 'Вероятность должна быть числом между 0 и 1')\n",
        "      return\n",
        "\n",
        "    if (t >= 0) and (t <= 1):\n",
        "      temperatures[message.from_user.id] = t\n",
        "      bot.send_message(message.chat.id, f'Теперь вероятность - {t}')\n",
        "      with open(\"temperatures.save\", \"wb\") as f:\n",
        "        pickle.dump(temperatures, f)\n",
        "    else:\n",
        "      bot.send_message(message.chat.id, 'Вероятность должна быть числом между 0 и 1')\n",
        "\n",
        "#пишет температуру\n",
        "@bot.message_handler(commands=['get_p'])\n",
        "def change_t_message(message):\n",
        "    if message.from_user.id not in temperatures:\n",
        "      temperatures[message.from_user.id] = 0.5\n",
        "    t = temperatures[message.from_user.id]\n",
        "    bot.send_message(message.chat.id, t)\n",
        "\n",
        "#обработчик сообщений\n",
        "@bot.message_handler(content_types=['text'])\n",
        "def send_text(message):\n",
        "  if message.from_user.id == 268917708:\n",
        "    bot.send_message(message.chat.id, \"Царин клоун\")\n",
        "  else:\n",
        "    if message.from_user.id not in temperatures:\n",
        "      temperatures[message.from_user.id] = 0.5\n",
        "    if random.random() > (1-temperatures[message.from_user.id]):\n",
        "      bot.send_message(message.chat.id, handler(message.text))\n",
        "\n",
        "bot.polling()"
      ],
      "execution_count": 0,
      "outputs": []
    },
    {
      "cell_type": "code",
      "metadata": {
        "id": "dWJmEMaIHDS2",
        "colab_type": "code",
        "colab": {}
      },
      "source": [
        ""
      ],
      "execution_count": 0,
      "outputs": []
    }
  ]
}